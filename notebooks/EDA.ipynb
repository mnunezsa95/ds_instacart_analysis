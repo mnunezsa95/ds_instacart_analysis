{
 "cells": [
  {
   "cell_type": "markdown",
   "id": "9a28a03a",
   "metadata": {},
   "source": [
    "# Instacart Analysis"
   ]
  },
  {
   "cell_type": "markdown",
   "id": "bcb97961",
   "metadata": {},
   "source": [
    "## 1. Introduction\n",
    "\n",
    "Instacart functions as a grocery delivery service, similar to Door Dash and Uber Eats, enabling customers to order groceries for delivery to their doorstep. Its operation is comparable to platforms like Uber Eats and DoorDash. The Instacart operates as a grocery delivery platform, much like DoorDash and Uber Eats, allowing users to order groceries for delivery right to their door. Its functionality mirrors that of Uber Eats and DoorDash. The data used in this analysis were made public by Instacart in 2017 for a Kaggle competition.\n",
    "\n",
    "## 2. Overview of Data\n",
    "\n",
    "Here are the descriptions of the five datasets used in the analysis:\n",
    "\n",
    "1. `instacart_orders.csv`: This dataset contains information about orders placed on the Instacart app.\n",
    "    - `order_id`: Unique identifier for each order.\n",
    "    - `user_id`: Unique identifier for each customer account.\n",
    "    - `order_number`: Number indicating how many times the customer has placed an order.\n",
    "    - `order_dow`: Day of the week when the order was placed (0 represents an uncertain day).\n",
    "    - `order_hour_of_day`: Hour of the day when the order was placed.\n",
    "    - `days_since_prior_order`: Number of days since the customer's previous order.\n",
    "2. `products.csv`: This dataset lists unique products available for purchase.\n",
    "    - `product_id`: Unique identifier for each product.\n",
    "    - `product_name`: Name of the product.\n",
    "    - `aisle_id`: Unique identifier for each grocery aisle category.\n",
    "    - `department_id`: Unique identifier for each grocery department category.\n",
    "3. `order_products.csv`: Contains information about items placed in orders.\n",
    "    - `order_id`: Unique identifier for each order.\n",
    "    - `product_id`: Unique identifier for each product.\n",
    "    - `add_to_cart_order`: Sequential order in which items were placed in the cart.\n",
    "    - `reordered`: Binary indicator (0 or 1) showing whether the customer has ordered this product before.\n",
    "4. `aisles.csv`: Provides details about grocery aisle categories.\n",
    "    - `aisle_id`: Unique identifier for each grocery aisle category.\n",
    "    - `aisle`: Name of the aisle category.\n",
    "5. `departments.csv`: Contains information about grocery department categories.\n",
    "    - `department_id`: Unique identifier for each grocery department category.\n",
    "    - `department`: Name of the department category.\n",
    "\n",
    "These datasets collectively offer comprehensive insights into customer behavior, product categories, and order details within the Instacart platform, facilitating detailed analysis and strategic decision-making processes."
   ]
  },
  {
   "cell_type": "code",
   "execution_count": 1,
   "id": "fbf1adab",
   "metadata": {},
   "outputs": [],
   "source": [
    "# Import python libraries\n",
    "\n",
    "import pandas as pd\n",
    "from matplotlib import pyplot as plt\n",
    "import numpy as np"
   ]
  },
  {
   "cell_type": "code",
   "execution_count": 2,
   "id": "ad36396d",
   "metadata": {},
   "outputs": [],
   "source": [
    "# Import datasets\n",
    "\n",
    "try:\n",
    "    orders_df = pd.read_csv('../data/instacart_orders.csv', sep=\";\")\n",
    "    products_df = pd.read_csv('../data/products.csv', sep=\";\")\n",
    "    aisles_df = pd.read_csv('../data/aisles.csv', sep=\";\")\n",
    "    departments_df = pd.read_csv('../data/departments.csv', sep=\";\")\n",
    "    order_products_df = pd.read_csv('../data/order_products.csv', sep=';')\n",
    "    \n",
    "except FileNotFoundError as Error:\n",
    "    print(f\"Error reading file: {Error}. Try again!\")"
   ]
  },
  {
   "cell_type": "code",
   "execution_count": 3,
   "id": "ad6a1efa",
   "metadata": {},
   "outputs": [
    {
     "name": "stdout",
     "output_type": "stream",
     "text": [
      "<class 'pandas.core.frame.DataFrame'>\n",
      "RangeIndex: 478967 entries, 0 to 478966\n",
      "Data columns (total 6 columns):\n",
      " #   Column                  Non-Null Count   Dtype  \n",
      "---  ------                  --------------   -----  \n",
      " 0   order_id                478967 non-null  int64  \n",
      " 1   user_id                 478967 non-null  int64  \n",
      " 2   order_number            478967 non-null  int64  \n",
      " 3   order_dow               478967 non-null  int64  \n",
      " 4   order_hour_of_day       478967 non-null  int64  \n",
      " 5   days_since_prior_order  450148 non-null  float64\n",
      "dtypes: float64(1), int64(5)\n",
      "memory usage: 21.9 MB\n"
     ]
    },
    {
     "data": {
      "text/html": [
       "<div>\n",
       "<style scoped>\n",
       "    .dataframe tbody tr th:only-of-type {\n",
       "        vertical-align: middle;\n",
       "    }\n",
       "\n",
       "    .dataframe tbody tr th {\n",
       "        vertical-align: top;\n",
       "    }\n",
       "\n",
       "    .dataframe thead th {\n",
       "        text-align: right;\n",
       "    }\n",
       "</style>\n",
       "<table border=\"1\" class=\"dataframe\">\n",
       "  <thead>\n",
       "    <tr style=\"text-align: right;\">\n",
       "      <th></th>\n",
       "      <th>order_id</th>\n",
       "      <th>user_id</th>\n",
       "      <th>order_number</th>\n",
       "      <th>order_dow</th>\n",
       "      <th>order_hour_of_day</th>\n",
       "      <th>days_since_prior_order</th>\n",
       "    </tr>\n",
       "  </thead>\n",
       "  <tbody>\n",
       "    <tr>\n",
       "      <th>0</th>\n",
       "      <td>1515936</td>\n",
       "      <td>183418</td>\n",
       "      <td>11</td>\n",
       "      <td>6</td>\n",
       "      <td>13</td>\n",
       "      <td>30.0</td>\n",
       "    </tr>\n",
       "    <tr>\n",
       "      <th>1</th>\n",
       "      <td>1690866</td>\n",
       "      <td>163593</td>\n",
       "      <td>5</td>\n",
       "      <td>5</td>\n",
       "      <td>12</td>\n",
       "      <td>9.0</td>\n",
       "    </tr>\n",
       "    <tr>\n",
       "      <th>2</th>\n",
       "      <td>1454967</td>\n",
       "      <td>39980</td>\n",
       "      <td>4</td>\n",
       "      <td>5</td>\n",
       "      <td>19</td>\n",
       "      <td>2.0</td>\n",
       "    </tr>\n",
       "    <tr>\n",
       "      <th>3</th>\n",
       "      <td>1768857</td>\n",
       "      <td>82516</td>\n",
       "      <td>56</td>\n",
       "      <td>0</td>\n",
       "      <td>20</td>\n",
       "      <td>10.0</td>\n",
       "    </tr>\n",
       "    <tr>\n",
       "      <th>4</th>\n",
       "      <td>3007858</td>\n",
       "      <td>196724</td>\n",
       "      <td>2</td>\n",
       "      <td>4</td>\n",
       "      <td>12</td>\n",
       "      <td>17.0</td>\n",
       "    </tr>\n",
       "    <tr>\n",
       "      <th>5</th>\n",
       "      <td>1843871</td>\n",
       "      <td>20084</td>\n",
       "      <td>5</td>\n",
       "      <td>0</td>\n",
       "      <td>11</td>\n",
       "      <td>15.0</td>\n",
       "    </tr>\n",
       "    <tr>\n",
       "      <th>6</th>\n",
       "      <td>2511640</td>\n",
       "      <td>148233</td>\n",
       "      <td>40</td>\n",
       "      <td>3</td>\n",
       "      <td>8</td>\n",
       "      <td>2.0</td>\n",
       "    </tr>\n",
       "    <tr>\n",
       "      <th>7</th>\n",
       "      <td>2521283</td>\n",
       "      <td>97711</td>\n",
       "      <td>2</td>\n",
       "      <td>0</td>\n",
       "      <td>18</td>\n",
       "      <td>22.0</td>\n",
       "    </tr>\n",
       "    <tr>\n",
       "      <th>8</th>\n",
       "      <td>2266494</td>\n",
       "      <td>34954</td>\n",
       "      <td>40</td>\n",
       "      <td>5</td>\n",
       "      <td>15</td>\n",
       "      <td>4.0</td>\n",
       "    </tr>\n",
       "    <tr>\n",
       "      <th>9</th>\n",
       "      <td>446014</td>\n",
       "      <td>15356</td>\n",
       "      <td>2</td>\n",
       "      <td>4</td>\n",
       "      <td>8</td>\n",
       "      <td>10.0</td>\n",
       "    </tr>\n",
       "  </tbody>\n",
       "</table>\n",
       "</div>"
      ],
      "text/plain": [
       "   order_id  user_id  order_number  order_dow  order_hour_of_day  \\\n",
       "0   1515936   183418            11          6                 13   \n",
       "1   1690866   163593             5          5                 12   \n",
       "2   1454967    39980             4          5                 19   \n",
       "3   1768857    82516            56          0                 20   \n",
       "4   3007858   196724             2          4                 12   \n",
       "5   1843871    20084             5          0                 11   \n",
       "6   2511640   148233            40          3                  8   \n",
       "7   2521283    97711             2          0                 18   \n",
       "8   2266494    34954            40          5                 15   \n",
       "9    446014    15356             2          4                  8   \n",
       "\n",
       "   days_since_prior_order  \n",
       "0                    30.0  \n",
       "1                     9.0  \n",
       "2                     2.0  \n",
       "3                    10.0  \n",
       "4                    17.0  \n",
       "5                    15.0  \n",
       "6                     2.0  \n",
       "7                    22.0  \n",
       "8                     4.0  \n",
       "9                    10.0  "
      ]
     },
     "execution_count": 3,
     "metadata": {},
     "output_type": "execute_result"
    }
   ],
   "source": [
    "orders_df.info() # Get general info about data\n",
    "orders_df.head(10) # Confirm that data looks good from import"
   ]
  },
  {
   "cell_type": "code",
   "execution_count": 4,
   "id": "5130e05e",
   "metadata": {},
   "outputs": [
    {
     "name": "stdout",
     "output_type": "stream",
     "text": [
      "<class 'pandas.core.frame.DataFrame'>\n",
      "RangeIndex: 49694 entries, 0 to 49693\n",
      "Data columns (total 4 columns):\n",
      " #   Column         Non-Null Count  Dtype \n",
      "---  ------         --------------  ----- \n",
      " 0   product_id     49694 non-null  int64 \n",
      " 1   product_name   48436 non-null  object\n",
      " 2   aisle_id       49694 non-null  int64 \n",
      " 3   department_id  49694 non-null  int64 \n",
      "dtypes: int64(3), object(1)\n",
      "memory usage: 1.5+ MB\n"
     ]
    },
    {
     "data": {
      "text/html": [
       "<div>\n",
       "<style scoped>\n",
       "    .dataframe tbody tr th:only-of-type {\n",
       "        vertical-align: middle;\n",
       "    }\n",
       "\n",
       "    .dataframe tbody tr th {\n",
       "        vertical-align: top;\n",
       "    }\n",
       "\n",
       "    .dataframe thead th {\n",
       "        text-align: right;\n",
       "    }\n",
       "</style>\n",
       "<table border=\"1\" class=\"dataframe\">\n",
       "  <thead>\n",
       "    <tr style=\"text-align: right;\">\n",
       "      <th></th>\n",
       "      <th>product_id</th>\n",
       "      <th>product_name</th>\n",
       "      <th>aisle_id</th>\n",
       "      <th>department_id</th>\n",
       "    </tr>\n",
       "  </thead>\n",
       "  <tbody>\n",
       "    <tr>\n",
       "      <th>0</th>\n",
       "      <td>1</td>\n",
       "      <td>Chocolate Sandwich Cookies</td>\n",
       "      <td>61</td>\n",
       "      <td>19</td>\n",
       "    </tr>\n",
       "    <tr>\n",
       "      <th>1</th>\n",
       "      <td>2</td>\n",
       "      <td>All-Seasons Salt</td>\n",
       "      <td>104</td>\n",
       "      <td>13</td>\n",
       "    </tr>\n",
       "    <tr>\n",
       "      <th>2</th>\n",
       "      <td>3</td>\n",
       "      <td>Robust Golden Unsweetened Oolong Tea</td>\n",
       "      <td>94</td>\n",
       "      <td>7</td>\n",
       "    </tr>\n",
       "    <tr>\n",
       "      <th>3</th>\n",
       "      <td>4</td>\n",
       "      <td>Smart Ones Classic Favorites Mini Rigatoni Wit...</td>\n",
       "      <td>38</td>\n",
       "      <td>1</td>\n",
       "    </tr>\n",
       "    <tr>\n",
       "      <th>4</th>\n",
       "      <td>5</td>\n",
       "      <td>Green Chile Anytime Sauce</td>\n",
       "      <td>5</td>\n",
       "      <td>13</td>\n",
       "    </tr>\n",
       "    <tr>\n",
       "      <th>5</th>\n",
       "      <td>6</td>\n",
       "      <td>Dry Nose Oil</td>\n",
       "      <td>11</td>\n",
       "      <td>11</td>\n",
       "    </tr>\n",
       "    <tr>\n",
       "      <th>6</th>\n",
       "      <td>7</td>\n",
       "      <td>Pure Coconut Water With Orange</td>\n",
       "      <td>98</td>\n",
       "      <td>7</td>\n",
       "    </tr>\n",
       "    <tr>\n",
       "      <th>7</th>\n",
       "      <td>8</td>\n",
       "      <td>Cut Russet Potatoes Steam N' Mash</td>\n",
       "      <td>116</td>\n",
       "      <td>1</td>\n",
       "    </tr>\n",
       "    <tr>\n",
       "      <th>8</th>\n",
       "      <td>9</td>\n",
       "      <td>Light Strawberry Blueberry Yogurt</td>\n",
       "      <td>120</td>\n",
       "      <td>16</td>\n",
       "    </tr>\n",
       "    <tr>\n",
       "      <th>9</th>\n",
       "      <td>10</td>\n",
       "      <td>Sparkling Orange Juice &amp; Prickly Pear Beverage</td>\n",
       "      <td>115</td>\n",
       "      <td>7</td>\n",
       "    </tr>\n",
       "  </tbody>\n",
       "</table>\n",
       "</div>"
      ],
      "text/plain": [
       "   product_id                                       product_name  aisle_id  \\\n",
       "0           1                         Chocolate Sandwich Cookies        61   \n",
       "1           2                                   All-Seasons Salt       104   \n",
       "2           3               Robust Golden Unsweetened Oolong Tea        94   \n",
       "3           4  Smart Ones Classic Favorites Mini Rigatoni Wit...        38   \n",
       "4           5                          Green Chile Anytime Sauce         5   \n",
       "5           6                                       Dry Nose Oil        11   \n",
       "6           7                     Pure Coconut Water With Orange        98   \n",
       "7           8                  Cut Russet Potatoes Steam N' Mash       116   \n",
       "8           9                  Light Strawberry Blueberry Yogurt       120   \n",
       "9          10     Sparkling Orange Juice & Prickly Pear Beverage       115   \n",
       "\n",
       "   department_id  \n",
       "0             19  \n",
       "1             13  \n",
       "2              7  \n",
       "3              1  \n",
       "4             13  \n",
       "5             11  \n",
       "6              7  \n",
       "7              1  \n",
       "8             16  \n",
       "9              7  "
      ]
     },
     "execution_count": 4,
     "metadata": {},
     "output_type": "execute_result"
    }
   ],
   "source": [
    "products_df.info() # Get general info about data\n",
    "products_df.head(10) # Confirm that data looks good from import"
   ]
  },
  {
   "cell_type": "code",
   "execution_count": 5,
   "id": "d8370c05",
   "metadata": {},
   "outputs": [
    {
     "name": "stdout",
     "output_type": "stream",
     "text": [
      "<class 'pandas.core.frame.DataFrame'>\n",
      "RangeIndex: 134 entries, 0 to 133\n",
      "Data columns (total 2 columns):\n",
      " #   Column    Non-Null Count  Dtype \n",
      "---  ------    --------------  ----- \n",
      " 0   aisle_id  134 non-null    int64 \n",
      " 1   aisle     134 non-null    object\n",
      "dtypes: int64(1), object(1)\n",
      "memory usage: 2.2+ KB\n"
     ]
    },
    {
     "data": {
      "text/html": [
       "<div>\n",
       "<style scoped>\n",
       "    .dataframe tbody tr th:only-of-type {\n",
       "        vertical-align: middle;\n",
       "    }\n",
       "\n",
       "    .dataframe tbody tr th {\n",
       "        vertical-align: top;\n",
       "    }\n",
       "\n",
       "    .dataframe thead th {\n",
       "        text-align: right;\n",
       "    }\n",
       "</style>\n",
       "<table border=\"1\" class=\"dataframe\">\n",
       "  <thead>\n",
       "    <tr style=\"text-align: right;\">\n",
       "      <th></th>\n",
       "      <th>aisle_id</th>\n",
       "      <th>aisle</th>\n",
       "    </tr>\n",
       "  </thead>\n",
       "  <tbody>\n",
       "    <tr>\n",
       "      <th>0</th>\n",
       "      <td>1</td>\n",
       "      <td>prepared soups salads</td>\n",
       "    </tr>\n",
       "    <tr>\n",
       "      <th>1</th>\n",
       "      <td>2</td>\n",
       "      <td>specialty cheeses</td>\n",
       "    </tr>\n",
       "    <tr>\n",
       "      <th>2</th>\n",
       "      <td>3</td>\n",
       "      <td>energy granola bars</td>\n",
       "    </tr>\n",
       "    <tr>\n",
       "      <th>3</th>\n",
       "      <td>4</td>\n",
       "      <td>instant foods</td>\n",
       "    </tr>\n",
       "    <tr>\n",
       "      <th>4</th>\n",
       "      <td>5</td>\n",
       "      <td>marinades meat preparation</td>\n",
       "    </tr>\n",
       "    <tr>\n",
       "      <th>5</th>\n",
       "      <td>6</td>\n",
       "      <td>other</td>\n",
       "    </tr>\n",
       "    <tr>\n",
       "      <th>6</th>\n",
       "      <td>7</td>\n",
       "      <td>packaged meat</td>\n",
       "    </tr>\n",
       "    <tr>\n",
       "      <th>7</th>\n",
       "      <td>8</td>\n",
       "      <td>bakery desserts</td>\n",
       "    </tr>\n",
       "    <tr>\n",
       "      <th>8</th>\n",
       "      <td>9</td>\n",
       "      <td>pasta sauce</td>\n",
       "    </tr>\n",
       "    <tr>\n",
       "      <th>9</th>\n",
       "      <td>10</td>\n",
       "      <td>kitchen supplies</td>\n",
       "    </tr>\n",
       "  </tbody>\n",
       "</table>\n",
       "</div>"
      ],
      "text/plain": [
       "   aisle_id                       aisle\n",
       "0         1       prepared soups salads\n",
       "1         2           specialty cheeses\n",
       "2         3         energy granola bars\n",
       "3         4               instant foods\n",
       "4         5  marinades meat preparation\n",
       "5         6                       other\n",
       "6         7               packaged meat\n",
       "7         8             bakery desserts\n",
       "8         9                 pasta sauce\n",
       "9        10            kitchen supplies"
      ]
     },
     "execution_count": 5,
     "metadata": {},
     "output_type": "execute_result"
    }
   ],
   "source": [
    "aisles_df.info() # Get general info about data\n",
    "aisles_df.head(10) # Confirm that data looks good from import"
   ]
  },
  {
   "cell_type": "code",
   "execution_count": 6,
   "id": "59e2090f",
   "metadata": {},
   "outputs": [
    {
     "name": "stdout",
     "output_type": "stream",
     "text": [
      "<class 'pandas.core.frame.DataFrame'>\n",
      "RangeIndex: 21 entries, 0 to 20\n",
      "Data columns (total 2 columns):\n",
      " #   Column         Non-Null Count  Dtype \n",
      "---  ------         --------------  ----- \n",
      " 0   department_id  21 non-null     int64 \n",
      " 1   department     21 non-null     object\n",
      "dtypes: int64(1), object(1)\n",
      "memory usage: 468.0+ bytes\n"
     ]
    },
    {
     "data": {
      "text/html": [
       "<div>\n",
       "<style scoped>\n",
       "    .dataframe tbody tr th:only-of-type {\n",
       "        vertical-align: middle;\n",
       "    }\n",
       "\n",
       "    .dataframe tbody tr th {\n",
       "        vertical-align: top;\n",
       "    }\n",
       "\n",
       "    .dataframe thead th {\n",
       "        text-align: right;\n",
       "    }\n",
       "</style>\n",
       "<table border=\"1\" class=\"dataframe\">\n",
       "  <thead>\n",
       "    <tr style=\"text-align: right;\">\n",
       "      <th></th>\n",
       "      <th>department_id</th>\n",
       "      <th>department</th>\n",
       "    </tr>\n",
       "  </thead>\n",
       "  <tbody>\n",
       "    <tr>\n",
       "      <th>0</th>\n",
       "      <td>1</td>\n",
       "      <td>frozen</td>\n",
       "    </tr>\n",
       "    <tr>\n",
       "      <th>1</th>\n",
       "      <td>2</td>\n",
       "      <td>other</td>\n",
       "    </tr>\n",
       "    <tr>\n",
       "      <th>2</th>\n",
       "      <td>3</td>\n",
       "      <td>bakery</td>\n",
       "    </tr>\n",
       "    <tr>\n",
       "      <th>3</th>\n",
       "      <td>4</td>\n",
       "      <td>produce</td>\n",
       "    </tr>\n",
       "    <tr>\n",
       "      <th>4</th>\n",
       "      <td>5</td>\n",
       "      <td>alcohol</td>\n",
       "    </tr>\n",
       "    <tr>\n",
       "      <th>5</th>\n",
       "      <td>6</td>\n",
       "      <td>international</td>\n",
       "    </tr>\n",
       "    <tr>\n",
       "      <th>6</th>\n",
       "      <td>7</td>\n",
       "      <td>beverages</td>\n",
       "    </tr>\n",
       "    <tr>\n",
       "      <th>7</th>\n",
       "      <td>8</td>\n",
       "      <td>pets</td>\n",
       "    </tr>\n",
       "    <tr>\n",
       "      <th>8</th>\n",
       "      <td>9</td>\n",
       "      <td>dry goods pasta</td>\n",
       "    </tr>\n",
       "    <tr>\n",
       "      <th>9</th>\n",
       "      <td>10</td>\n",
       "      <td>bulk</td>\n",
       "    </tr>\n",
       "  </tbody>\n",
       "</table>\n",
       "</div>"
      ],
      "text/plain": [
       "   department_id       department\n",
       "0              1           frozen\n",
       "1              2            other\n",
       "2              3           bakery\n",
       "3              4          produce\n",
       "4              5          alcohol\n",
       "5              6    international\n",
       "6              7        beverages\n",
       "7              8             pets\n",
       "8              9  dry goods pasta\n",
       "9             10             bulk"
      ]
     },
     "execution_count": 6,
     "metadata": {},
     "output_type": "execute_result"
    }
   ],
   "source": [
    "departments_df.info() # Get general info about data\n",
    "departments_df.head(10) # Confirm that data looks good from import"
   ]
  },
  {
   "cell_type": "code",
   "execution_count": 7,
   "id": "6fc81694",
   "metadata": {},
   "outputs": [
    {
     "name": "stdout",
     "output_type": "stream",
     "text": [
      "<class 'pandas.core.frame.DataFrame'>\n",
      "RangeIndex: 4545007 entries, 0 to 4545006\n",
      "Data columns (total 4 columns):\n",
      " #   Column             Non-Null Count    Dtype  \n",
      "---  ------             --------------    -----  \n",
      " 0   order_id           4545007 non-null  int64  \n",
      " 1   product_id         4545007 non-null  int64  \n",
      " 2   add_to_cart_order  4544171 non-null  float64\n",
      " 3   reordered          4545007 non-null  int64  \n",
      "dtypes: float64(1), int64(3)\n",
      "memory usage: 138.7 MB\n"
     ]
    },
    {
     "data": {
      "text/html": [
       "<div>\n",
       "<style scoped>\n",
       "    .dataframe tbody tr th:only-of-type {\n",
       "        vertical-align: middle;\n",
       "    }\n",
       "\n",
       "    .dataframe tbody tr th {\n",
       "        vertical-align: top;\n",
       "    }\n",
       "\n",
       "    .dataframe thead th {\n",
       "        text-align: right;\n",
       "    }\n",
       "</style>\n",
       "<table border=\"1\" class=\"dataframe\">\n",
       "  <thead>\n",
       "    <tr style=\"text-align: right;\">\n",
       "      <th></th>\n",
       "      <th>order_id</th>\n",
       "      <th>product_id</th>\n",
       "      <th>add_to_cart_order</th>\n",
       "      <th>reordered</th>\n",
       "    </tr>\n",
       "  </thead>\n",
       "  <tbody>\n",
       "    <tr>\n",
       "      <th>0</th>\n",
       "      <td>2141543</td>\n",
       "      <td>11440</td>\n",
       "      <td>17.0</td>\n",
       "      <td>0</td>\n",
       "    </tr>\n",
       "    <tr>\n",
       "      <th>1</th>\n",
       "      <td>567889</td>\n",
       "      <td>1560</td>\n",
       "      <td>1.0</td>\n",
       "      <td>1</td>\n",
       "    </tr>\n",
       "    <tr>\n",
       "      <th>2</th>\n",
       "      <td>2261212</td>\n",
       "      <td>26683</td>\n",
       "      <td>1.0</td>\n",
       "      <td>1</td>\n",
       "    </tr>\n",
       "    <tr>\n",
       "      <th>3</th>\n",
       "      <td>491251</td>\n",
       "      <td>8670</td>\n",
       "      <td>35.0</td>\n",
       "      <td>1</td>\n",
       "    </tr>\n",
       "    <tr>\n",
       "      <th>4</th>\n",
       "      <td>2571142</td>\n",
       "      <td>1940</td>\n",
       "      <td>5.0</td>\n",
       "      <td>1</td>\n",
       "    </tr>\n",
       "    <tr>\n",
       "      <th>5</th>\n",
       "      <td>2456893</td>\n",
       "      <td>21616</td>\n",
       "      <td>4.0</td>\n",
       "      <td>1</td>\n",
       "    </tr>\n",
       "    <tr>\n",
       "      <th>6</th>\n",
       "      <td>644579</td>\n",
       "      <td>12341</td>\n",
       "      <td>5.0</td>\n",
       "      <td>1</td>\n",
       "    </tr>\n",
       "    <tr>\n",
       "      <th>7</th>\n",
       "      <td>2231852</td>\n",
       "      <td>44925</td>\n",
       "      <td>10.0</td>\n",
       "      <td>1</td>\n",
       "    </tr>\n",
       "    <tr>\n",
       "      <th>8</th>\n",
       "      <td>3185766</td>\n",
       "      <td>36259</td>\n",
       "      <td>14.0</td>\n",
       "      <td>1</td>\n",
       "    </tr>\n",
       "    <tr>\n",
       "      <th>9</th>\n",
       "      <td>420019</td>\n",
       "      <td>23315</td>\n",
       "      <td>4.0</td>\n",
       "      <td>1</td>\n",
       "    </tr>\n",
       "  </tbody>\n",
       "</table>\n",
       "</div>"
      ],
      "text/plain": [
       "   order_id  product_id  add_to_cart_order  reordered\n",
       "0   2141543       11440               17.0          0\n",
       "1    567889        1560                1.0          1\n",
       "2   2261212       26683                1.0          1\n",
       "3    491251        8670               35.0          1\n",
       "4   2571142        1940                5.0          1\n",
       "5   2456893       21616                4.0          1\n",
       "6    644579       12341                5.0          1\n",
       "7   2231852       44925               10.0          1\n",
       "8   3185766       36259               14.0          1\n",
       "9    420019       23315                4.0          1"
      ]
     },
     "execution_count": 7,
     "metadata": {},
     "output_type": "execute_result"
    }
   ],
   "source": [
    "order_products_df.info(show_counts=True) # Get general info about data\n",
    "order_products_df.head(10) # Confirm that data looks good from import"
   ]
  },
  {
   "cell_type": "markdown",
   "id": "07357848-dc64-4156-9cc3-01ff4365226d",
   "metadata": {},
   "source": [
    "## 3. Data Cleaning"
   ]
  },
  {
   "cell_type": "markdown",
   "id": "f179f0a9",
   "metadata": {},
   "source": [
    "### 3.1. The `orders` DataFrame"
   ]
  },
  {
   "cell_type": "code",
   "execution_count": 8,
   "id": "b99297a5-405a-463d-8535-9adc3da4ad74",
   "metadata": {},
   "outputs": [
    {
     "name": "stdout",
     "output_type": "stream",
     "text": [
      "Total number of duplicates: 15\n",
      "\n",
      "order_id\n",
      "391768     2\n",
      "2232988    2\n",
      "1286742    2\n",
      "2282673    2\n",
      "1919531    2\n",
      "          ..\n",
      "3210681    1\n",
      "3270802    1\n",
      "885349     1\n",
      "216274     1\n",
      "1843871    1\n",
      "Name: count, Length: 478952, dtype: int64\n",
      "\n",
      "15\n"
     ]
    }
   ],
   "source": [
    "# Check for duplicated orders\n",
    "\n",
    "total_duplicated_orders = orders_df.duplicated().sum() # Count number of duplicate values in the DataFrane\n",
    "print(f'Total number of duplicates: {total_duplicated_orders}')\n",
    "print()\n",
    "print(orders_df['order_id'].value_counts()) # Check for duplicates in the order_id column\n",
    "print()\n",
    "print(orders_df['order_id'].duplicated().sum()) # Check for number of duplicates in the order_id column"
   ]
  },
  {
   "cell_type": "code",
   "execution_count": 9,
   "id": "0d44de5d",
   "metadata": {},
   "outputs": [
    {
     "name": "stdout",
     "output_type": "stream",
     "text": [
      "        order_id  user_id  order_number  order_dow  order_hour_of_day  \\\n",
      "1295     1474941   115569             5          2                  2   \n",
      "2391     1640269   173965            15          2                  2   \n",
      "2550     1223696    55276            11          2                  2   \n",
      "5965      579194    85018            14          2                  2   \n",
      "17680    2004230   203121             4          2                  2   \n",
      "...          ...      ...           ...        ...                ...   \n",
      "457660   1562381    19378             5          2                  2   \n",
      "460316   1986084   117453            81          2                  2   \n",
      "462676   1362113    19654            20          2                  2   \n",
      "472800   1746383    88484            19          2                  2   \n",
      "472923   1519815   149345             1          2                  2   \n",
      "\n",
      "        days_since_prior_order  \n",
      "1295                      28.0  \n",
      "2391                       2.0  \n",
      "2550                      30.0  \n",
      "5965                      11.0  \n",
      "17680                      8.0  \n",
      "...                        ...  \n",
      "457660                     6.0  \n",
      "460316                     8.0  \n",
      "462676                    21.0  \n",
      "472800                     5.0  \n",
      "472923                     NaN  \n",
      "\n",
      "[136 rows x 6 columns]\n"
     ]
    }
   ],
   "source": [
    "# Check for all orders placed Wednesday at 2:00 AM\n",
    "\n",
    "wednesday_orders = orders_df[(orders_df['order_dow'] == 2) & (orders_df['order_hour_of_day'] == 2)] # Check for orders placed on day 2 (Wed) and at hour 2 (2:00 AM)\n",
    "print(wednesday_orders)"
   ]
  },
  {
   "cell_type": "code",
   "execution_count": 10,
   "id": "480563c7",
   "metadata": {},
   "outputs": [],
   "source": [
    "# Remove duplicate orders\n",
    "\n",
    "orders_df = orders_df.drop_duplicates().reset_index(drop=True) # Remove duplicates & reassign back to orders_df"
   ]
  },
  {
   "cell_type": "code",
   "execution_count": 11,
   "id": "0b2396a2",
   "metadata": {},
   "outputs": [
    {
     "name": "stdout",
     "output_type": "stream",
     "text": [
      "0\n"
     ]
    }
   ],
   "source": [
    "# Double check for duplicate rows\n",
    "\n",
    "print(orders_df.duplicated().sum()) # Print number of duplicate values in the DataFrane after dropping them"
   ]
  },
  {
   "cell_type": "code",
   "execution_count": 12,
   "id": "f6113ef1",
   "metadata": {},
   "outputs": [
    {
     "name": "stdout",
     "output_type": "stream",
     "text": [
      "0\n"
     ]
    }
   ],
   "source": [
    "# Double check for duplicate order IDs only\n",
    "\n",
    "print(orders_df['order_id'].duplicated().sum()) # Print number of duplicate values in the order_id col of the DataFrame"
   ]
  },
  {
   "cell_type": "markdown",
   "id": "45e6bc46",
   "metadata": {},
   "source": [
    "### 3.2. The `products` DataFrame"
   ]
  },
  {
   "cell_type": "code",
   "execution_count": 13,
   "id": "5f526b5b-8175-46fa-a0fd-441767d50e64",
   "metadata": {},
   "outputs": [
    {
     "name": "stdout",
     "output_type": "stream",
     "text": [
      "0        False\n",
      "1        False\n",
      "2        False\n",
      "3        False\n",
      "4        False\n",
      "         ...  \n",
      "49689    False\n",
      "49690    False\n",
      "49691    False\n",
      "49692    False\n",
      "49693    False\n",
      "Length: 49694, dtype: bool\n"
     ]
    }
   ],
   "source": [
    "# Check for fully duplicate rows\n",
    "\n",
    "print(products_df.duplicated()) # Check for fully duplicated rows in the DataFrame"
   ]
  },
  {
   "cell_type": "code",
   "execution_count": 14,
   "id": "88daa4f4",
   "metadata": {},
   "outputs": [
    {
     "name": "stdout",
     "output_type": "stream",
     "text": [
      "49694\n",
      "0\n"
     ]
    }
   ],
   "source": [
    "# Check for just duplicate product IDs\n",
    "\n",
    "print(products_df['product_id'].nunique()) # Check for number of unique values in 'product_id' col; should equal 49694 if there are no duplicates\n",
    "print(products_df['product_id'].duplicated().sum()) # Check number of duplicated values in 'product_id' col"
   ]
  },
  {
   "cell_type": "code",
   "execution_count": 15,
   "id": "c773f0bf",
   "metadata": {},
   "outputs": [],
   "source": [
    "# Check for just duplicate product names (convert names to lowercase to compare better)\n",
    "\n",
    "products_df['product_name_lower'] = products_df['product_name'].str.lower() # Create a new col and convert product names to lowercase\n",
    "products_df = products_df.drop_duplicates(subset='product_name_lower').reset_index(drop=True) # Drop the duplicates \n",
    "\n",
    "products_df.loc[0:, 'product_name'] = products_df.loc[0:, 'product_name_lower'] # Replacing the values in 'product_name' with the values from 'product_name_lower'\n",
    "products_df.drop(columns=['product_name_lower'], inplace=True) # Delete the 'product_name_lower' column since no longer needed"
   ]
  },
  {
   "cell_type": "code",
   "execution_count": 16,
   "id": "01efd02e",
   "metadata": {},
   "outputs": [
    {
     "name": "stdout",
     "output_type": "stream",
     "text": [
      "Empty DataFrame\n",
      "Columns: [product_id, product_name, aisle_id, department_id]\n",
      "Index: []\n"
     ]
    }
   ],
   "source": [
    "# Check for duplicate product names that aren't missing\n",
    "\n",
    "print(products_df.query('product_name.notna() and product_name.duplicated()')) # Check for duplicate product names that are not missing\n",
    "\n",
    "# The duplicates were handled in the cell above"
   ]
  },
  {
   "cell_type": "markdown",
   "id": "60f30db1",
   "metadata": {},
   "source": [
    "### 3.3. The `departments` DataFrame"
   ]
  },
  {
   "cell_type": "code",
   "execution_count": 17,
   "id": "fb410ad4-0fbf-4b80-bb09-23fdea79afe3",
   "metadata": {},
   "outputs": [
    {
     "name": "stdout",
     "output_type": "stream",
     "text": [
      "0\n"
     ]
    }
   ],
   "source": [
    "print(departments_df['department_id'].duplicated().sum()) # Check number of duplicates in 'department_id' column"
   ]
  },
  {
   "cell_type": "code",
   "execution_count": 18,
   "id": "332b12bb",
   "metadata": {},
   "outputs": [
    {
     "name": "stdout",
     "output_type": "stream",
     "text": [
      "0\n"
     ]
    }
   ],
   "source": [
    "print(departments_df['department'].str.lower().duplicated().sum()) # Check number of duplicates in 'department' column after converting them to lowercase"
   ]
  },
  {
   "cell_type": "markdown",
   "id": "889349c1",
   "metadata": {},
   "source": [
    "### 3.4 The `aisles` DataFrame"
   ]
  },
  {
   "cell_type": "code",
   "execution_count": 19,
   "id": "9da89fb9-4679-40f5-ad0d-c34df753a3f8",
   "metadata": {},
   "outputs": [
    {
     "name": "stdout",
     "output_type": "stream",
     "text": [
      "0\n"
     ]
    }
   ],
   "source": [
    "print(aisles_df['aisle_id'].duplicated().sum()) # Check number of duplicates in 'aisle_id' column"
   ]
  },
  {
   "cell_type": "code",
   "execution_count": 20,
   "id": "da7c2822",
   "metadata": {},
   "outputs": [
    {
     "name": "stdout",
     "output_type": "stream",
     "text": [
      "0\n"
     ]
    }
   ],
   "source": [
    "print(aisles_df['aisle'].str.lower().duplicated().sum()) # Check number of duplicates in 'aisle' column after converting them to lowercase"
   ]
  },
  {
   "cell_type": "markdown",
   "id": "274cd06a",
   "metadata": {},
   "source": [
    "### 3.5. The `order_products` DataFrame"
   ]
  },
  {
   "cell_type": "code",
   "execution_count": 21,
   "id": "52326689-84a8-4b8f-a881-7c68780f62c9",
   "metadata": {},
   "outputs": [
    {
     "name": "stdout",
     "output_type": "stream",
     "text": [
      "0          False\n",
      "1          False\n",
      "2          False\n",
      "3          False\n",
      "4          False\n",
      "           ...  \n",
      "4545002    False\n",
      "4545003    False\n",
      "4545004    False\n",
      "4545005    False\n",
      "4545006    False\n",
      "Length: 4545007, dtype: bool\n",
      "\n",
      "Number of duplicates: 0\n"
     ]
    }
   ],
   "source": [
    "# Check for fullly duplicate rows\n",
    "\n",
    "print(order_products_df.duplicated()) # Check for fully duplicated rows in the DataFrame\n",
    "print()\n",
    "print(f'Number of duplicates: {order_products_df.duplicated().sum()}')"
   ]
  },
  {
   "cell_type": "code",
   "execution_count": 22,
   "id": "7b861391",
   "metadata": {},
   "outputs": [
    {
     "name": "stdout",
     "output_type": "stream",
     "text": [
      "Number of \"product_id\" duplicates 4499434\n",
      "Number of \"order_id\" duplicates 4094961\n",
      "\n",
      "\"product_id\" value counts\n",
      "product_id\n",
      "24852    66050\n",
      "13176    53297\n",
      "21137    37039\n",
      "21903    33971\n",
      "47209    29773\n",
      "         ...  \n",
      "46028        1\n",
      "15491        1\n",
      "3453         1\n",
      "18946        1\n",
      "23624        1\n",
      "Name: count, Length: 45573, dtype: int64\n",
      "\n",
      "\"order_id\" value counts\n",
      "order_id\n",
      "61355      127\n",
      "3308010    115\n",
      "2136777    108\n",
      "171934     104\n",
      "1959075     98\n",
      "          ... \n",
      "2806791      1\n",
      "1176478      1\n",
      "998956       1\n",
      "1013429      1\n",
      "1004137      1\n",
      "Name: count, Length: 450046, dtype: int64\n"
     ]
    }
   ],
   "source": [
    "# Double check for any other tricky duplicates\n",
    "\n",
    "print(f'Number of \"product_id\" duplicates {order_products_df[\"product_id\"].duplicated().sum()}')\n",
    "print(f'Number of \"order_id\" duplicates {order_products_df[\"order_id\"].duplicated().sum()}')\n",
    "print()\n",
    "print('\"product_id\" value counts')\n",
    "print(order_products_df['product_id'].value_counts())\n",
    "print()\n",
    "print('\"order_id\" value counts')\n",
    "print(order_products_df['order_id'].value_counts())"
   ]
  },
  {
   "cell_type": "markdown",
   "id": "be6c49bd",
   "metadata": {},
   "source": [
    "#### Explanation\n",
    "\n",
    "Upon exploration, it has been observed that there are duplicates present in the `order_id` and `product_id`columns, but this is a common occurrence in this dataset.\n",
    "\n",
    "For instance, it is possible for two distinct orders to include the same product, resulting in duplication in the `product_id` column. Likewise, duplication in the 'order_id' column can occur when a user places multiple products in a single order, reflecting each instance of adding an item to the cart."
   ]
  },
  {
   "cell_type": "code",
   "execution_count": 23,
   "id": "fe4a8b0f",
   "metadata": {},
   "outputs": [
    {
     "name": "stdout",
     "output_type": "stream",
     "text": [
      "product_id       0\n",
      "product_name     1\n",
      "aisle_id         0\n",
      "department_id    0\n",
      "dtype: int64\n"
     ]
    }
   ],
   "source": [
    "print(products_df.isna().sum()) # Print number of missing values"
   ]
  },
  {
   "cell_type": "code",
   "execution_count": 24,
   "id": "e96167bc",
   "metadata": {},
   "outputs": [
    {
     "name": "stdout",
     "output_type": "stream",
     "text": [
      "    product_id product_name  aisle_id  department_id\n",
      "37          38          NaN       100             21\n"
     ]
    }
   ],
   "source": [
    "print(products_df[products_df['aisle_id'] == 100]) # print the row where 'aisle_id' is 100"
   ]
  },
  {
   "cell_type": "markdown",
   "id": "930e679d",
   "metadata": {},
   "source": [
    "The singular missing value in the products dataset is indeed related to aisle ID 100."
   ]
  },
  {
   "cell_type": "code",
   "execution_count": 25,
   "id": "8fd0a541",
   "metadata": {},
   "outputs": [
    {
     "name": "stdout",
     "output_type": "stream",
     "text": [
      "    product_id product_name  aisle_id  department_id\n",
      "37          38          NaN       100             21\n"
     ]
    }
   ],
   "source": [
    "print(products_df[products_df['department_id'] == 21]) # print the row where 'department_id' is 21"
   ]
  },
  {
   "cell_type": "markdown",
   "id": "0e39559e",
   "metadata": {},
   "source": [
    "The absence of a value in the products dataset does indeed correspond to department ID 21."
   ]
  },
  {
   "cell_type": "code",
   "execution_count": 26,
   "id": "325c3464",
   "metadata": {},
   "outputs": [
    {
     "name": "stdout",
     "output_type": "stream",
     "text": [
      "    department_id department\n",
      "20             21    missing\n",
      "\n",
      "    aisle_id    aisle\n",
      "99       100  missing\n"
     ]
    }
   ],
   "source": [
    "print(departments_df[departments_df['department_id'] == 21]) # Find the department name\n",
    "print()\n",
    "print(aisles_df[aisles_df['aisle_id'] == 100]) # Find the aisle name"
   ]
  },
  {
   "cell_type": "markdown",
   "id": "6c110069",
   "metadata": {},
   "source": [
    "Determining the specific characteristics or values of missing data is impossible since they are not present in the dataset."
   ]
  },
  {
   "cell_type": "code",
   "execution_count": 27,
   "id": "6b295120",
   "metadata": {},
   "outputs": [
    {
     "name": "stdout",
     "output_type": "stream",
     "text": [
      "product_id       0\n",
      "product_name     0\n",
      "aisle_id         0\n",
      "department_id    0\n",
      "dtype: int64\n"
     ]
    }
   ],
   "source": [
    "# Fill missing product names with 'Unknown'\n",
    "\n",
    "products_df.loc[37, 'product_name'] = 'Unkown' # Changing the NaN value for row 37 to 'Unknown'\n",
    "print(products_df.isna().sum()) # Check missing values again!"
   ]
  },
  {
   "cell_type": "code",
   "execution_count": 28,
   "id": "93e41d96",
   "metadata": {},
   "outputs": [
    {
     "name": "stdout",
     "output_type": "stream",
     "text": [
      "order_id                      0\n",
      "user_id                       0\n",
      "order_number                  0\n",
      "order_dow                     0\n",
      "order_hour_of_day             0\n",
      "days_since_prior_order    28817\n",
      "dtype: int64\n"
     ]
    }
   ],
   "source": [
    "print(orders_df.isna().sum()) # Print number of missing values"
   ]
  },
  {
   "cell_type": "markdown",
   "id": "8554f001",
   "metadata": {},
   "source": [
    "There are no missing values where it's not a customer's first order."
   ]
  },
  {
   "cell_type": "code",
   "execution_count": 29,
   "id": "b8240253",
   "metadata": {},
   "outputs": [
    {
     "name": "stdout",
     "output_type": "stream",
     "text": [
      "order_id               0\n",
      "product_id             0\n",
      "add_to_cart_order    836\n",
      "reordered              0\n",
      "dtype: int64\n"
     ]
    }
   ],
   "source": [
    "print(order_products_df.isna().sum())  # Print number of missing values"
   ]
  },
  {
   "cell_type": "code",
   "execution_count": 30,
   "id": "9a78e5ee",
   "metadata": {},
   "outputs": [
    {
     "name": "stdout",
     "output_type": "stream",
     "text": [
      "The max value is 64.0.\n",
      "The min value is 1.0.\n"
     ]
    }
   ],
   "source": [
    "add_to_cart_order_max_value = order_products_df['add_to_cart_order'].max()\n",
    "add_to_cart_order_min_value = order_products_df['add_to_cart_order'].min()\n",
    "\n",
    "print(f'The max value is {add_to_cart_order_max_value}.\\nThe min value is {add_to_cart_order_min_value}.')"
   ]
  },
  {
   "cell_type": "code",
   "execution_count": 31,
   "id": "ab9d0c2b",
   "metadata": {},
   "outputs": [
    {
     "data": {
      "text/plain": [
       "[2449164,\n",
       " 1968313,\n",
       " 2926893,\n",
       " 1717990,\n",
       " 1959075,\n",
       " 844733,\n",
       " 61355,\n",
       " 936852,\n",
       " 264710,\n",
       " 1717990,\n",
       " 1564093,\n",
       " 129627,\n",
       " 264710,\n",
       " 293169,\n",
       " 2849370,\n",
       " 1386261,\n",
       " 3308010,\n",
       " 903110,\n",
       " 2136777,\n",
       " 3347453,\n",
       " 1888628,\n",
       " 165801,\n",
       " 2449164,\n",
       " 2094761,\n",
       " 3347453,\n",
       " 1038146,\n",
       " 2136777,\n",
       " 2997021,\n",
       " 844733,\n",
       " 844733,\n",
       " 2136777,\n",
       " 813364,\n",
       " 165801,\n",
       " 2256933,\n",
       " 171934,\n",
       " 264710,\n",
       " 2449164,\n",
       " 2409109,\n",
       " 3347453,\n",
       " 813364,\n",
       " 2926893,\n",
       " 936852,\n",
       " 1730767,\n",
       " 1169835,\n",
       " 733526,\n",
       " 844733,\n",
       " 293169,\n",
       " 61355,\n",
       " 903110,\n",
       " 1968313,\n",
       " 733526,\n",
       " 2136777,\n",
       " 2926893,\n",
       " 404157,\n",
       " 1386261,\n",
       " 171934,\n",
       " 3125735,\n",
       " 747668,\n",
       " 3308010,\n",
       " 1169835,\n",
       " 1800005,\n",
       " 1961723,\n",
       " 936852,\n",
       " 2849370,\n",
       " 3308010,\n",
       " 61355,\n",
       " 871281,\n",
       " 1717990,\n",
       " 813364,\n",
       " 388234,\n",
       " 61355,\n",
       " 3125735,\n",
       " 1959075,\n",
       " 61355,\n",
       " 3125735,\n",
       " 1648217,\n",
       " 171934,\n",
       " 3125735,\n",
       " 61355,\n",
       " 1477139,\n",
       " 1959075,\n",
       " 1717990,\n",
       " 1717990,\n",
       " 61355,\n",
       " 1717990,\n",
       " 171934,\n",
       " 1038146,\n",
       " 3308010,\n",
       " 3347453,\n",
       " 102236,\n",
       " 936852,\n",
       " 171934,\n",
       " 1730767,\n",
       " 2926893,\n",
       " 1021563,\n",
       " 1832957,\n",
       " 1959075,\n",
       " 2256933,\n",
       " 1968313,\n",
       " 2721963,\n",
       " 293169,\n",
       " 102236,\n",
       " 3125735,\n",
       " 1959075,\n",
       " 264710,\n",
       " 678116,\n",
       " 1220886,\n",
       " 1386261,\n",
       " 171934,\n",
       " 1959075,\n",
       " 61355,\n",
       " 3308010,\n",
       " 61355,\n",
       " 102236,\n",
       " 388234,\n",
       " 171934,\n",
       " 3308010,\n",
       " 1961723,\n",
       " 2721963,\n",
       " 3308010,\n",
       " 1564093,\n",
       " 264710,\n",
       " 404157,\n",
       " 1673227,\n",
       " 813364,\n",
       " 2094761,\n",
       " 844733,\n",
       " 1386261,\n",
       " 1959075,\n",
       " 3125735,\n",
       " 61355,\n",
       " 102236,\n",
       " 3308010,\n",
       " 1386261,\n",
       " 936852,\n",
       " 2999801,\n",
       " 1038146,\n",
       " 1888628,\n",
       " 813364,\n",
       " 1800005,\n",
       " 1968313,\n",
       " 3308010,\n",
       " 2449164,\n",
       " 388234,\n",
       " 3125735,\n",
       " 102236,\n",
       " 903110,\n",
       " 1832957,\n",
       " 102236,\n",
       " 3308010,\n",
       " 2926893,\n",
       " 388234,\n",
       " 1800005,\n",
       " 2094761,\n",
       " 2721963,\n",
       " 844733,\n",
       " 2136777,\n",
       " 2926893,\n",
       " 813364,\n",
       " 2136777,\n",
       " 1673227,\n",
       " 1633337,\n",
       " 1021563,\n",
       " 102236,\n",
       " 1800005,\n",
       " 1477139,\n",
       " 2470674,\n",
       " 1220886,\n",
       " 2470674,\n",
       " 1648217,\n",
       " 264710,\n",
       " 1832957,\n",
       " 2721963,\n",
       " 2849370,\n",
       " 2625444,\n",
       " 871281,\n",
       " 1717990,\n",
       " 1220886,\n",
       " 1677118,\n",
       " 1730767,\n",
       " 1730767,\n",
       " 678116,\n",
       " 102236,\n",
       " 2136777,\n",
       " 61355,\n",
       " 2136777,\n",
       " 903110,\n",
       " 844733,\n",
       " 2849370,\n",
       " 1832957,\n",
       " 1730767,\n",
       " 2479011,\n",
       " 3383594,\n",
       " 61355,\n",
       " 1832957,\n",
       " 1021563,\n",
       " 1021563,\n",
       " 1959075,\n",
       " 1832957,\n",
       " 813364,\n",
       " 61355,\n",
       " 61355,\n",
       " 2926893,\n",
       " 1959075,\n",
       " 1648217,\n",
       " 2136777,\n",
       " 264710,\n",
       " 1800005,\n",
       " 2094761,\n",
       " 2926893,\n",
       " 1959075,\n",
       " 264710,\n",
       " 61355,\n",
       " 3308010,\n",
       " 2256933,\n",
       " 936852,\n",
       " 3308010,\n",
       " 1038146,\n",
       " 1183255,\n",
       " 2256933,\n",
       " 1832957,\n",
       " 1386261,\n",
       " 1713430,\n",
       " 1730767,\n",
       " 2136777,\n",
       " 3308010,\n",
       " 1717990,\n",
       " 171934,\n",
       " 1968313,\n",
       " 1717990,\n",
       " 2136777,\n",
       " 1648217,\n",
       " 1968313,\n",
       " 2652650,\n",
       " 733526,\n",
       " 1673227,\n",
       " 2849370,\n",
       " 61355,\n",
       " 3308010,\n",
       " 1169835,\n",
       " 3308010,\n",
       " 171934,\n",
       " 2999801,\n",
       " 1717990,\n",
       " 1386261,\n",
       " 936852,\n",
       " 1968313,\n",
       " 1713430,\n",
       " 1800005,\n",
       " 2136777,\n",
       " 264710,\n",
       " 264710,\n",
       " 2926893,\n",
       " 165801,\n",
       " 1598369,\n",
       " 2997021,\n",
       " 1730767,\n",
       " 61355,\n",
       " 1916118,\n",
       " 1730767,\n",
       " 3308010,\n",
       " 2479011,\n",
       " 2449164,\n",
       " 61355,\n",
       " 3125735,\n",
       " 2094761,\n",
       " 1888628,\n",
       " 3125735,\n",
       " 264710,\n",
       " 171934,\n",
       " 1800005,\n",
       " 1038146,\n",
       " 1959075,\n",
       " 102236,\n",
       " 3308010,\n",
       " 1386261,\n",
       " 1800005,\n",
       " 2470674,\n",
       " 2926893,\n",
       " 2470674,\n",
       " 102236,\n",
       " 3308010,\n",
       " 1717990,\n",
       " 903110,\n",
       " 2997021,\n",
       " 129627,\n",
       " 3383594,\n",
       " 3308010,\n",
       " 1386261,\n",
       " 854647,\n",
       " 102236,\n",
       " 1038146,\n",
       " 3308010,\n",
       " 936852,\n",
       " 264710,\n",
       " 264710,\n",
       " 1800005,\n",
       " 61355,\n",
       " 1220886,\n",
       " 2136777,\n",
       " 293169,\n",
       " 1800005,\n",
       " 1888628,\n",
       " 813364,\n",
       " 2136777,\n",
       " 61355,\n",
       " 1730767,\n",
       " 1021563,\n",
       " 2721963,\n",
       " 1730767,\n",
       " 1564093,\n",
       " 3308010,\n",
       " 2849370,\n",
       " 3308010,\n",
       " 1302315,\n",
       " 1888628,\n",
       " 61355,\n",
       " 1959075,\n",
       " 61355,\n",
       " 2136777,\n",
       " 733526,\n",
       " 3308010,\n",
       " 1730767,\n",
       " 1183255,\n",
       " 264710,\n",
       " 1730767,\n",
       " 678116,\n",
       " 2721963,\n",
       " 2136777,\n",
       " 3308010,\n",
       " 2721963,\n",
       " 2409109,\n",
       " 871281,\n",
       " 171934,\n",
       " 678116,\n",
       " 2849370,\n",
       " 813364,\n",
       " 3125735,\n",
       " 1730767,\n",
       " 61355,\n",
       " 2999801,\n",
       " 1648217,\n",
       " 936852,\n",
       " 3125735,\n",
       " 61355,\n",
       " 2849370,\n",
       " 1220886,\n",
       " 1959075,\n",
       " 2256933,\n",
       " 171934,\n",
       " 2926893,\n",
       " 2926893,\n",
       " 404157,\n",
       " 2136777,\n",
       " 3308010,\n",
       " 1021563,\n",
       " 404157,\n",
       " 171934,\n",
       " 61355,\n",
       " 2094761,\n",
       " 1832957,\n",
       " 293169,\n",
       " 813364,\n",
       " 293169,\n",
       " 3125735,\n",
       " 1021563,\n",
       " 1800005,\n",
       " 3308010,\n",
       " 936852,\n",
       " 264710,\n",
       " 171934,\n",
       " 888470,\n",
       " 1673227,\n",
       " 871281,\n",
       " 1800005,\n",
       " 3308010,\n",
       " 1730767,\n",
       " 180546,\n",
       " 2621907,\n",
       " 1730767,\n",
       " 936852,\n",
       " 1959075,\n",
       " 1169835,\n",
       " 1730767,\n",
       " 2926893,\n",
       " 854647,\n",
       " 2449164,\n",
       " 3308010,\n",
       " 2470674,\n",
       " 1183255,\n",
       " 61355,\n",
       " 1386261,\n",
       " 903110,\n",
       " 2094761,\n",
       " 903110,\n",
       " 264710,\n",
       " 1648217,\n",
       " 293169,\n",
       " 2479011,\n",
       " 1730767,\n",
       " 1730767,\n",
       " 2926893,\n",
       " 61355,\n",
       " 3125735,\n",
       " 1959075,\n",
       " 2409109,\n",
       " 2926893,\n",
       " 1021563,\n",
       " 1386261,\n",
       " 3308010,\n",
       " 2926893,\n",
       " 1800005,\n",
       " 61355,\n",
       " 2449164,\n",
       " 102236,\n",
       " 3308010,\n",
       " 1308785,\n",
       " 1800005,\n",
       " 2926893,\n",
       " 61355,\n",
       " 2136777,\n",
       " 1717990,\n",
       " 3308010,\n",
       " 1730767,\n",
       " 871281,\n",
       " 1673227,\n",
       " 102236,\n",
       " 2136777,\n",
       " 1717990,\n",
       " 813364,\n",
       " 1800005,\n",
       " 1959075,\n",
       " 813364,\n",
       " 165801,\n",
       " 2136777,\n",
       " 2729254,\n",
       " 1673227,\n",
       " 1961723,\n",
       " 61355,\n",
       " 1183255,\n",
       " 2136777,\n",
       " 1302315,\n",
       " 1386261,\n",
       " 2849370,\n",
       " 171934,\n",
       " 2136777,\n",
       " 3308010,\n",
       " 733526,\n",
       " 1959075,\n",
       " 9310,\n",
       " 813364,\n",
       " 2170451,\n",
       " 1800005,\n",
       " 404157,\n",
       " 871281,\n",
       " 3125735,\n",
       " 2721963,\n",
       " 404157,\n",
       " 129627,\n",
       " 678116,\n",
       " 2926893,\n",
       " 264710,\n",
       " 2256933,\n",
       " 102236,\n",
       " 102236,\n",
       " 1021563,\n",
       " 264710,\n",
       " 2926893,\n",
       " 936852,\n",
       " 102236,\n",
       " 1968313,\n",
       " 936852,\n",
       " 293169,\n",
       " 2136777,\n",
       " 2136777,\n",
       " 61355,\n",
       " 1183255,\n",
       " 1730767,\n",
       " 1800005,\n",
       " 2479011,\n",
       " 1386261,\n",
       " 1800005,\n",
       " 1673227,\n",
       " 3308010,\n",
       " 2926893,\n",
       " 2926893,\n",
       " 61355,\n",
       " 1832957,\n",
       " 1717990,\n",
       " 813364,\n",
       " 2999801,\n",
       " 264710,\n",
       " 3308010,\n",
       " 3347453,\n",
       " 3308010,\n",
       " 936852,\n",
       " 813364,\n",
       " 404157,\n",
       " 171934,\n",
       " 903110,\n",
       " 871281,\n",
       " 102236,\n",
       " 61355,\n",
       " 813364,\n",
       " 102236,\n",
       " 3308010,\n",
       " 1800005,\n",
       " 1832957,\n",
       " 2479011,\n",
       " 171934,\n",
       " 171934,\n",
       " 844733,\n",
       " 3308010,\n",
       " 171934,\n",
       " 1800005,\n",
       " 404157,\n",
       " 1673227,\n",
       " 3383594,\n",
       " 3308010,\n",
       " 2136777,\n",
       " 102236,\n",
       " 1717990,\n",
       " 2094761,\n",
       " 102236,\n",
       " 1959075,\n",
       " 171934,\n",
       " 2136777,\n",
       " 1386261,\n",
       " 2136777,\n",
       " 2449164,\n",
       " 171934,\n",
       " 3308010,\n",
       " 1220886,\n",
       " 2136777,\n",
       " 1959075,\n",
       " 2136777,\n",
       " 171934,\n",
       " 936852,\n",
       " 3308010,\n",
       " 2470674,\n",
       " 871281,\n",
       " 2721963,\n",
       " 102236,\n",
       " 61355,\n",
       " 3125735,\n",
       " 3308010,\n",
       " 1386261,\n",
       " 1717990,\n",
       " 293169,\n",
       " 61355,\n",
       " 1386261,\n",
       " 2721963,\n",
       " 2136777,\n",
       " 1888628,\n",
       " 264710,\n",
       " 1564093,\n",
       " 2136777,\n",
       " 1730767,\n",
       " 2849370,\n",
       " 2721963,\n",
       " 293169,\n",
       " 264710,\n",
       " 2721963,\n",
       " 3125735,\n",
       " 1959075,\n",
       " 404157,\n",
       " 171934,\n",
       " 61355,\n",
       " 1959075,\n",
       " 871281,\n",
       " 61355,\n",
       " 1183255,\n",
       " 1673227,\n",
       " 2849370,\n",
       " 1477139,\n",
       " 1730767,\n",
       " 903110,\n",
       " 844733,\n",
       " 3308010,\n",
       " 1673227,\n",
       " 61355,\n",
       " 171934,\n",
       " 2926893,\n",
       " 2926893,\n",
       " 1959075,\n",
       " 2479011,\n",
       " 3347453,\n",
       " 2721963,\n",
       " 2625444,\n",
       " 171934,\n",
       " 813364,\n",
       " 102236,\n",
       " 61355,\n",
       " 844733,\n",
       " 2721963,\n",
       " 1302315,\n",
       " 813364,\n",
       " 61355,\n",
       " 2926893,\n",
       " 1968313,\n",
       " 1968313,\n",
       " 264710,\n",
       " 1717990,\n",
       " 1730767,\n",
       " 2136777,\n",
       " 2721963,\n",
       " 2136777,\n",
       " 2721963,\n",
       " 171934,\n",
       " 171934,\n",
       " 2979697,\n",
       " 1730767,\n",
       " 1888628,\n",
       " 1625713,\n",
       " 2136777,\n",
       " 1800005,\n",
       " 2094761,\n",
       " 1961723,\n",
       " 1564093,\n",
       " 1959075,\n",
       " 1916118,\n",
       " 61355,\n",
       " 2997021,\n",
       " 293169,\n",
       " 3308010,\n",
       " 1529171,\n",
       " 61355,\n",
       " 2256933,\n",
       " 1959075,\n",
       " 2449164,\n",
       " 1673227,\n",
       " 2479011,\n",
       " 1888628,\n",
       " 1800005,\n",
       " 2470674,\n",
       " 1386261,\n",
       " 3125735,\n",
       " 2721963,\n",
       " 2926893,\n",
       " 1800005,\n",
       " 1386261,\n",
       " 2136777,\n",
       " 61355,\n",
       " 171934,\n",
       " 3308010,\n",
       " 61355,\n",
       " 936852,\n",
       " 61355,\n",
       " 936852,\n",
       " 293169,\n",
       " 1386261,\n",
       " 171934,\n",
       " 1800005,\n",
       " 871281,\n",
       " 3125735,\n",
       " 61355,\n",
       " 1959075,\n",
       " 1968313,\n",
       " 1717990,\n",
       " 3308010,\n",
       " 844733,\n",
       " 129627,\n",
       " 844733,\n",
       " 264710,\n",
       " 165801,\n",
       " 1386261,\n",
       " 2136777,\n",
       " 2721963,\n",
       " 1730767,\n",
       " 3125735,\n",
       " 2136777,\n",
       " 1183255,\n",
       " 171934,\n",
       " 936852,\n",
       " 854647,\n",
       " 1386261,\n",
       " 2926893,\n",
       " 1961723,\n",
       " 61355,\n",
       " 1730767,\n",
       " 1633337,\n",
       " 61355,\n",
       " 1959075,\n",
       " 102236,\n",
       " 404157,\n",
       " 1968313,\n",
       " 1386261,\n",
       " 2136777,\n",
       " 2999801,\n",
       " 1529171,\n",
       " 2721963,\n",
       " 61355,\n",
       " 3383594,\n",
       " 1730767,\n",
       " 936852,\n",
       " 2926893,\n",
       " 102236,\n",
       " 1959075,\n",
       " 102236,\n",
       " 1713430,\n",
       " 3383594,\n",
       " 102236,\n",
       " 1959075,\n",
       " 678116,\n",
       " 2449164,\n",
       " 844733,\n",
       " 61355,\n",
       " 3308010,\n",
       " 61355,\n",
       " 2136777,\n",
       " 264710,\n",
       " 171934,\n",
       " 813364,\n",
       " 3308010,\n",
       " 1730767,\n",
       " 61355,\n",
       " 102236,\n",
       " 61355,\n",
       " 1717990,\n",
       " 3308010,\n",
       " 1968313,\n",
       " 129627,\n",
       " 936852,\n",
       " 61355,\n",
       " 61355,\n",
       " 165801,\n",
       " 2409109,\n",
       " 2926893,\n",
       " 61355,\n",
       " 1961723,\n",
       " 1832957,\n",
       " 1961723,\n",
       " 1183255,\n",
       " 61355,\n",
       " 2999801,\n",
       " 1220886,\n",
       " 3125735,\n",
       " 171934,\n",
       " 388234,\n",
       " 102236,\n",
       " 102236,\n",
       " 61355,\n",
       " 2721963,\n",
       " 1800005,\n",
       " 1968313,\n",
       " 2136777,\n",
       " 61355,\n",
       " 1220886,\n",
       " 61355,\n",
       " 936852,\n",
       " 1673227,\n",
       " 936852,\n",
       " 1673227,\n",
       " 1625713,\n",
       " 171934,\n",
       " 2136777,\n",
       " 1800005,\n",
       " 1730767,\n",
       " 264710,\n",
       " 102236,\n",
       " 61355,\n",
       " 903110,\n",
       " 2136777,\n",
       " 1959075,\n",
       " 3125735,\n",
       " 171934,\n",
       " 1169835,\n",
       " 3308010,\n",
       " 61355,\n",
       " 1959075,\n",
       " 2721963,\n",
       " 813364,\n",
       " 1477139,\n",
       " 1888628,\n",
       " 1730767,\n",
       " 1959075,\n",
       " 2479011,\n",
       " 3308010,\n",
       " 2721963,\n",
       " 1717990,\n",
       " 2409109,\n",
       " 171934,\n",
       " 171934,\n",
       " 1183255,\n",
       " 1800005,\n",
       " 171934,\n",
       " 2136777,\n",
       " 388234,\n",
       " 264710,\n",
       " 61355,\n",
       " 1730767,\n",
       " 1717990,\n",
       " 1916118,\n",
       " 264710,\n",
       " 3125735,\n",
       " 1959075,\n",
       " 813364,\n",
       " 3347453,\n",
       " 293169,\n",
       " 171934,\n",
       " 1386261,\n",
       " 1183255,\n",
       " 1717990,\n",
       " 1308785,\n",
       " 2625444,\n",
       " 171934,\n",
       " 102236,\n",
       " 1386261,\n",
       " 1968313,\n",
       " 1386261,\n",
       " 404157,\n",
       " 1959075,\n",
       " 1832957,\n",
       " 1961723,\n",
       " 936852,\n",
       " 1386261,\n",
       " 2449164,\n",
       " 171934,\n",
       " 1959075,\n",
       " 2449164,\n",
       " 180546,\n",
       " 1183255,\n",
       " 1386261,\n",
       " 1968313,\n",
       " 2136777,\n",
       " 3308010,\n",
       " 2479011,\n",
       " 2979697,\n",
       " 1888628,\n",
       " 1832957,\n",
       " 1961723,\n",
       " 1800005,\n",
       " 1633337,\n",
       " 404157,\n",
       " 1673227,\n",
       " 1832957]"
      ]
     },
     "execution_count": 31,
     "metadata": {},
     "output_type": "execute_result"
    }
   ],
   "source": [
    "# Save all order IDs with at least one missing value in 'add_to_cart_order'\n",
    "\n",
    "list_of_order_ids = order_products_df.query('not add_to_cart_order > 0')['order_id'].tolist()\n",
    "list_of_order_ids"
   ]
  },
  {
   "cell_type": "code",
   "execution_count": 32,
   "id": "54c31695",
   "metadata": {},
   "outputs": [
    {
     "name": "stdout",
     "output_type": "stream",
     "text": [
      "Empty DataFrame\n",
      "Columns: [order_id, product_id, add_to_cart_order, reordered]\n",
      "Index: []\n"
     ]
    }
   ],
   "source": [
    "order_products_missing_values_df = order_products_df.query('order_id in @list_of_order_ids and add_to_cart_order > 64.0')\n",
    "print(order_products_missing_values_df)"
   ]
  },
  {
   "cell_type": "markdown",
   "id": "f2ec50a8",
   "metadata": {},
   "source": [
    "It is not the case that all orders with missing values have more than 64 products. If that were true, the custom filter mentioned above would have returned some results. However, it currently returns an empty DataFrame without any values."
   ]
  },
  {
   "cell_type": "code",
   "execution_count": 33,
   "id": "7a987d08",
   "metadata": {},
   "outputs": [
    {
     "name": "stdout",
     "output_type": "stream",
     "text": [
      "int64\n",
      "0\n"
     ]
    }
   ],
   "source": [
    "# Replace missing values with 999 and convert column to integer type\n",
    "\n",
    "order_products_df['add_to_cart_order'] = order_products_df['add_to_cart_order'].fillna(999) # Fill missing values with 999\n",
    "order_products_df['add_to_cart_order'] = order_products_df['add_to_cart_order'].astype('int') # Convert col to integer type\n",
    "\n",
    "print(order_products_df['add_to_cart_order'].dtype) # Check column data type\n",
    "\n",
    "print(order_products_df['add_to_cart_order'].isna().sum()) # Checkk for missing values again"
   ]
  },
  {
   "cell_type": "markdown",
   "id": "short-capability",
   "metadata": {},
   "source": [
    "## 4. Data Exploration"
   ]
  },
  {
   "cell_type": "markdown",
   "id": "657e5273",
   "metadata": {},
   "source": [
    "### 4.1. Confirm the Sensibility of `order_hour_of_day` and `order_dow` Values within the `orders` Table"
   ]
  },
  {
   "cell_type": "code",
   "execution_count": 34,
   "id": "growing-fruit",
   "metadata": {},
   "outputs": [
    {
     "data": {
      "text/plain": [
       "count    478952.000000\n",
       "mean         13.447034\n",
       "std           4.224567\n",
       "min           0.000000\n",
       "25%          10.000000\n",
       "50%          13.000000\n",
       "75%          16.000000\n",
       "max          23.000000\n",
       "Name: order_hour_of_day, dtype: float64"
      ]
     },
     "execution_count": 34,
     "metadata": {},
     "output_type": "execute_result"
    }
   ],
   "source": [
    "orders_df['order_hour_of_day'].describe() # Finding the max and min for the 'order_hour_of_day' column"
   ]
  },
  {
   "cell_type": "code",
   "execution_count": 35,
   "id": "accessory-malaysia",
   "metadata": {},
   "outputs": [
    {
     "data": {
      "text/plain": [
       "count    478952.000000\n",
       "mean          2.775051\n",
       "std           2.045901\n",
       "min           0.000000\n",
       "25%           1.000000\n",
       "50%           3.000000\n",
       "75%           5.000000\n",
       "max           6.000000\n",
       "Name: order_dow, dtype: float64"
      ]
     },
     "execution_count": 35,
     "metadata": {},
     "output_type": "execute_result"
    }
   ],
   "source": [
    "orders_df['order_dow'].describe() # Finding the max and min for the 'order_dow' column"
   ]
  },
  {
   "cell_type": "markdown",
   "id": "2296882a",
   "metadata": {},
   "source": [
    "Both `order_dow` (day of the week for the order) and `order_hour_of_day` (hour of the day for the order) are meaningful and reasonable metrics for analyzing shopping behavior."
   ]
  },
  {
   "cell_type": "markdown",
   "id": "a6743a70",
   "metadata": {},
   "source": [
    "### 4.2. Determining the preferred shopping time"
   ]
  },
  {
   "cell_type": "code",
   "execution_count": 36,
   "id": "a36cca27",
   "metadata": {},
   "outputs": [
    {
     "data": {
      "image/png": "[encoded data removed]",
      "text/plain": [
       "<Figure size 640x480 with 1 Axes>"
      ]
     },
     "metadata": {},
     "output_type": "display_data"
    }
   ],
   "source": [
    "orders_df['order_hour_of_day'].plot(kind='hist', title='Order Frequency by Hour', bins=24)\n",
    "plt.xlabel('Hour of Day') # The xlabel and ylabel parameters were not working when used inside the plot() method in Pandas, so I used the Matplotlib Method instead.\n",
    "plt.ylabel('Frequnecy of Orders')\n",
    "plt.show()"
   ]
  },
  {
   "cell_type": "markdown",
   "id": "b6045278",
   "metadata": {},
   "source": [
    "Typically, individuals tend to shop from approximately 7:00 AM to 9:00 PM. The peak hours for orders are usually around 12:00 PM and 3:00 PM."
   ]
  },
  {
   "cell_type": "markdown",
   "id": "documented-command",
   "metadata": {},
   "source": [
    "### 4.3. Analyzing shopping patterns reveals the days of the week when people tend to shop."
   ]
  },
  {
   "cell_type": "code",
   "execution_count": 37,
   "id": "chief-digit",
   "metadata": {},
   "outputs": [
    {
     "data": {
      "image/png": "[encoded data removed]",
      "text/plain": [
       "<Figure size 640x480 with 1 Axes>"
      ]
     },
     "metadata": {},
     "output_type": "display_data"
    }
   ],
   "source": [
    "order_freq_by_day = orders_df['order_dow'].value_counts().sort_index() # Calculate order_freq_by_day \n",
    "\n",
    "order_freq_by_day.plot(kind='bar', title='Order Frequency by Day', xlabel='Day of Week', ylabel='Frequnecy of Orders', rot=0)\n",
    "plt.show()"
   ]
  },
  {
   "cell_type": "markdown",
   "id": "dominant-lightning",
   "metadata": {},
   "source": [
    "People typically spread out their shopping activities fairly evenly across the week. However, Monday and Tuesday emerge as the two busiest days for orders."
   ]
  },
  {
   "cell_type": "markdown",
   "id": "cutting-concert",
   "metadata": {},
   "source": [
    "### 4.4. Determing the average duration between orders"
   ]
  },
  {
   "cell_type": "code",
   "execution_count": 38,
   "id": "c231f523",
   "metadata": {},
   "outputs": [
    {
     "name": "stdout",
     "output_type": "stream",
     "text": [
      "count    450135.000000\n",
      "mean         11.101814\n",
      "std           9.190004\n",
      "min           0.000000\n",
      "25%           4.000000\n",
      "50%           7.000000\n",
      "75%          15.000000\n",
      "max          30.000000\n",
      "Name: days_since_prior_order, dtype: float64\n"
     ]
    }
   ],
   "source": [
    "print(orders_df['days_since_prior_order'].describe()) # Find the mean, max and min"
   ]
  },
  {
   "cell_type": "code",
   "execution_count": 39,
   "id": "671b85ff",
   "metadata": {},
   "outputs": [
    {
     "data": {
      "image/png": "[encoded data removed]",
      "text/plain": [
       "<Figure size 640x480 with 1 Axes>"
      ]
     },
     "metadata": {},
     "output_type": "display_data"
    }
   ],
   "source": [
    "orders_df['days_since_prior_order'].plot(kind='hist', title='Frequency of Days Between Orders', bins=30)\n",
    "plt.xlabel('Days since previous order')\n",
    "plt.ylabel('Frequnecy of Orders')\n",
    "plt.show()"
   ]
  },
  {
   "cell_type": "markdown",
   "id": "discrete-vertex",
   "metadata": {},
   "source": [
    "The majority of individuals usually wait only a few days between orders, with the waiting period ranging from 0 to 11 days. The number of individuals re-ordering between 15 to 29 days decreases. However, there is a notable increase in people who wait approximately 30 days before reordering."
   ]
  },
  {
   "cell_type": "markdown",
   "id": "packed-classic",
   "metadata": {},
   "source": [
    "### 4.5. Determining if there is a discrepancy in the distributions of `order_hour_of_day` between Wednesdays and Saturdays."
   ]
  },
  {
   "cell_type": "code",
   "execution_count": 40,
   "id": "d89b8403",
   "metadata": {},
   "outputs": [
    {
     "data": {
      "image/png": "[encoded data removed]",
      "text/plain": [
       "<Figure size 1000x600 with 1 Axes>"
      ]
     },
     "metadata": {},
     "output_type": "display_data"
    }
   ],
   "source": [
    "wednesday_order_freq = orders_df[orders_df['order_dow'] == 2]['order_hour_of_day'].value_counts().sort_index()\n",
    "saturday_order_freq = orders_df[orders_df['order_dow'] == 6]['order_hour_of_day'].value_counts().sort_index()\n",
    "\n",
    "wednesday_order_freq.plot(kind='bar', figsize=(10,6), color='red', alpha=0.5, title='Hour of Day Distributions for Wednesday and Saturdays', xlabel='Hour of Day', ylabel='Frequency of Orders', rot=0, label='Wednesday')\n",
    "saturday_order_freq.plot(kind='bar', figsize=(10,6), color='blue', alpha=0.6, title='Hour of Day Distributions for Wednesday and Saturdays', xlabel='Hour of Day', ylabel='Frequency of Orders', rot=0, label='Saturday')\n",
    "plt.legend()\n",
    "plt.show()"
   ]
  },
  {
   "cell_type": "markdown",
   "id": "charitable-congo",
   "metadata": {},
   "source": [
    "#### Explanation\n",
    "\n",
    "The distribution of order hours on Wednesdays compared to Saturdays displays slight variations. Although the general shapes of the distributions are akin, discernible differences exist in peak hours and frequencies. Wednesdays demonstrate elevated peak hours in certain periods, whereas Saturdays exhibit higher frequencies in later hours of the day. Nonetheless, the overarching patterns between the two days remain fairly similar concerning the distribution of order hours."
   ]
  },
  {
   "cell_type": "markdown",
   "id": "e3891143",
   "metadata": {},
   "source": [
    "### 4.6. Finding the distribution for the number of orders per customer"
   ]
  },
  {
   "cell_type": "code",
   "execution_count": 41,
   "id": "d8c26c23",
   "metadata": {},
   "outputs": [
    {
     "data": {
      "image/png": "[encoded data removed]",
      "text/plain": [
       "<Figure size 640x480 with 1 Axes>"
      ]
     },
     "metadata": {},
     "output_type": "display_data"
    }
   ],
   "source": [
    "orders_per_customer = orders_df['user_id'].value_counts() # Creating a series of Customer Ids and Order Freq\n",
    "orders_per_customer.plot(kind='hist', title='Distribution of Orders per Customer', bins=15)\n",
    "plt.xlabel('Number of Orders')\n",
    "plt.ylabel('Frequency')\n",
    "plt.show()"
   ]
  },
  {
   "cell_type": "code",
   "execution_count": 42,
   "id": "a6aef86c",
   "metadata": {},
   "outputs": [
    {
     "data": {
      "text/plain": [
       "count    157437.000000\n",
       "mean          3.042182\n",
       "std           2.746842\n",
       "min           1.000000\n",
       "25%           1.000000\n",
       "50%           2.000000\n",
       "75%           4.000000\n",
       "max          28.000000\n",
       "Name: count, dtype: float64"
      ]
     },
     "execution_count": 42,
     "metadata": {},
     "output_type": "execute_result"
    }
   ],
   "source": [
    "orders_per_customer.describe()"
   ]
  },
  {
   "cell_type": "markdown",
   "id": "4654a4e3",
   "metadata": {},
   "source": [
    "A significant portion of the distribution reveals that the majority of customers in the dataset have ordered between 1 and 8 times. This observation is corroborated by the descriptive statistics provided above. Notably, the 25th, 50th, and 75th percentiles of the distribution lie within the range of 1 to 8 orders per customer."
   ]
  },
  {
   "cell_type": "markdown",
   "id": "54a0319c",
   "metadata": {},
   "source": [
    "### 4.7. Finding the top 20 popular products (id and name)"
   ]
  },
  {
   "cell_type": "code",
   "execution_count": 43,
   "id": "exterior-arizona",
   "metadata": {
    "scrolled": true
   },
   "outputs": [
    {
     "name": "stdout",
     "output_type": "stream",
     "text": [
      "[24852, 13176, 21137, 21903, 47209, 47766, 47626, 16797, 26209, 27845, 27966, 22935, 24964, 45007, 39275, 49683, 28204, 5876, 8277, 40706]\n"
     ]
    }
   ],
   "source": [
    "top_products_id = order_products_df['product_id'].value_counts(sort=True).head(20).index.tolist() # save top 20 prodcuts to a list\n",
    "print(top_products_id)"
   ]
  },
  {
   "cell_type": "code",
   "execution_count": 44,
   "id": "universal-facial",
   "metadata": {
    "scrolled": true
   },
   "outputs": [
    {
     "name": "stdout",
     "output_type": "stream",
     "text": [
      "                product_name  product_id\n",
      "0              organic lemon        5876\n",
      "1   apple honeycrisp organic        8277\n",
      "2     bag of organic bananas       13176\n",
      "3               strawberries       16797\n",
      "4       organic strawberries       21137\n",
      "5       organic baby spinach       21903\n",
      "6       organic yellow onion       22935\n",
      "7                     banana       24852\n",
      "8             organic garlic       24964\n",
      "9                      limes       26209\n",
      "10        organic whole milk       27845\n",
      "11       organic raspberries       27966\n",
      "12        organic fuji apple       28204\n",
      "13       organic blueberries       39275\n",
      "14    organic grape tomatoes       40706\n",
      "15          organic zucchini       45007\n",
      "16      organic hass avocado       47209\n",
      "17               large lemon       47626\n",
      "18           organic avocado       47766\n",
      "19            cucumber kirby       49683\n"
     ]
    }
   ],
   "source": [
    "top_20_popular = products_df.query('product_id in @top_products_id')[['product_name', 'product_id']].reset_index(drop=True) # query based on top_products list\n",
    "print(top_20_popular)"
   ]
  },
  {
   "cell_type": "code",
   "execution_count": 45,
   "id": "de04a51d",
   "metadata": {},
   "outputs": [
    {
     "data": {
      "image/png": "[encoded data removed]",
      "text/plain": [
       "<Figure size 1000x600 with 1 Axes>"
      ]
     },
     "metadata": {},
     "output_type": "display_data"
    }
   ],
   "source": [
    "top_20_popular.plot(kind='bar', x='product_name', y='product_id', figsize=(10,6), title='Top 20 Most Popular Items', xlabel='Product Name', ylabel='Product ID', color='skyblue')\n",
    "plt.tight_layout()\n",
    "plt.show()   "
   ]
  },
  {
   "cell_type": "markdown",
   "id": "romantic-deposit",
   "metadata": {},
   "source": [
    "### 4.8 Determining the number of items do people typically buy in one order"
   ]
  },
  {
   "cell_type": "code",
   "execution_count": 46,
   "id": "virtual-punch",
   "metadata": {},
   "outputs": [
    {
     "name": "stdout",
     "output_type": "stream",
     "text": [
      "The average is: 10.1\n",
      "The median is: 8.0\n"
     ]
    }
   ],
   "source": [
    "items_per_order = order_products_df.groupby('order_id')['product_id'].count() # Count items in every order\n",
    "\n",
    "mean_items_per_order = items_per_order.mean() # get the mean (average)\n",
    "median_items_per_order = items_per_order.median() # get the median \n",
    "\n",
    "print(f\"The average is: {mean_items_per_order.round(2)}\\nThe median is: {median_items_per_order}\")"
   ]
  },
  {
   "cell_type": "code",
   "execution_count": 47,
   "id": "sensitive-breathing",
   "metadata": {},
   "outputs": [
    {
     "data": {
      "image/png": "[encoded data removed]",
      "text/plain": [
       "<Figure size 640x480 with 1 Axes>"
      ]
     },
     "metadata": {},
     "output_type": "display_data"
    }
   ],
   "source": [
    "items_per_order.plot(kind='hist', title='Distribution of Items per Order', bins=range(1, 52), xlim=[0, 55], alpha=0.7, color='lightsteelblue')\n",
    "plt.axvline(items_per_order.mean(), color='red', linestyle='dashed', linewidth=1, label='Mean')\n",
    "plt.xlabel(\"Items per Order\")\n",
    "plt.ylabel(\"Frequency of Items\")\n",
    "plt.show()"
   ]
  },
  {
   "cell_type": "markdown",
   "id": "designed-mortality",
   "metadata": {},
   "source": [
    "Customers typically buy different quantities of items per order, spanning from 0 to 50 items. However, the majority of customers tend to make relatively modest purchases on InstaCart, typically ranging between 1 and 11 items per order. On average, customers purchase around 8 items per order. The distribution pattern suggests that as the number of items in an order increases, the frequency of such purchases decreases."
   ]
  },
  {
   "cell_type": "markdown",
   "id": "5e6b5537",
   "metadata": {},
   "source": [
    "### 4.9. Determining the top 20 items that are reordered most frequently (names and product IDs)?"
   ]
  },
  {
   "cell_type": "code",
   "execution_count": 48,
   "id": "9374e55a",
   "metadata": {},
   "outputs": [
    {
     "name": "stdout",
     "output_type": "stream",
     "text": [
      "product_id\n",
      "24852    55763\n",
      "13176    44450\n",
      "21137    28639\n",
      "21903    26233\n",
      "47209    23629\n",
      "47766    18743\n",
      "27845    16251\n",
      "47626    15044\n",
      "27966    14748\n",
      "16797    13945\n",
      "26209    13327\n",
      "22935    11145\n",
      "24964    10411\n",
      "45007    10076\n",
      "49683     9538\n",
      "28204     8989\n",
      "8277      8836\n",
      "39275     8799\n",
      "5876      8412\n",
      "49235     8389\n",
      "Name: count, dtype: int64\n"
     ]
    }
   ],
   "source": [
    "reordered_items = order_products_df[order_products_df['reordered'] == 1]\n",
    "reorder_counts = reordered_items['product_id'].value_counts().head(20)\n",
    "print(reorder_counts)"
   ]
  },
  {
   "cell_type": "code",
   "execution_count": 49,
   "id": "possible-change",
   "metadata": {
    "scrolled": false
   },
   "outputs": [
    {
     "name": "stdout",
     "output_type": "stream",
     "text": [
      "    product_id              product_name\n",
      "0         5876             organic lemon\n",
      "1         8277  apple honeycrisp organic\n",
      "2        13176    bag of organic bananas\n",
      "3        16797              strawberries\n",
      "4        21137      organic strawberries\n",
      "5        21903      organic baby spinach\n",
      "6        22935      organic yellow onion\n",
      "7        24852                    banana\n",
      "8        24964            organic garlic\n",
      "9        26209                     limes\n",
      "10       27845        organic whole milk\n",
      "11       27966       organic raspberries\n",
      "12       28204        organic fuji apple\n",
      "13       39275       organic blueberries\n",
      "14       45007          organic zucchini\n",
      "15       47209      organic hass avocado\n",
      "16       47626               large lemon\n",
      "17       47766           organic avocado\n",
      "18       49235       organic half & half\n",
      "19       49683            cucumber kirby\n"
     ]
    }
   ],
   "source": [
    "top_20_reordered = products_df.query('product_id in @reorder_counts.index')[['product_id', 'product_name']].reset_index(drop=True)\n",
    "print(top_20_reordered)"
   ]
  },
  {
   "cell_type": "code",
   "execution_count": 50,
   "id": "bb2d2600",
   "metadata": {},
   "outputs": [
    {
     "data": {
      "image/png": "[encoded data removed]",
      "text/plain": [
       "<Figure size 1000x600 with 1 Axes>"
      ]
     },
     "metadata": {},
     "output_type": "display_data"
    }
   ],
   "source": [
    "top_20_reordered.plot(kind='bar', x='product_name', y='product_id', figsize=(10,6), title='Top 20 Most Reordered Items', xlabel='Product Name', ylabel='Product ID', color='mediumseagreen')\n",
    "plt.tight_layout()\n",
    "plt.show()   "
   ]
  },
  {
   "cell_type": "markdown",
   "id": "80e70c74",
   "metadata": {},
   "source": [
    "The list provided above displays the top 20 most frequently purchased items in the dataset, in no particular order. Nevertheless, judging from the reorder_counts, it's evident that Bananas are the most frequently reordered items."
   ]
  },
  {
   "cell_type": "markdown",
   "id": "9d312b14",
   "metadata": {},
   "source": [
    "### 4.10. The proportion of orders that are reorders"
   ]
  },
  {
   "cell_type": "code",
   "execution_count": 51,
   "id": "8ae9f4b1",
   "metadata": {},
   "outputs": [
    {
     "name": "stdout",
     "output_type": "stream",
     "text": [
      "       product_id  reordered\n",
      "0               1      0.564\n",
      "1               2      0.000\n",
      "2               3      0.738\n",
      "3               4      0.510\n",
      "4               7      0.500\n",
      "...           ...        ...\n",
      "45568       49690      0.800\n",
      "45569       49691      0.431\n",
      "45570       49692      0.417\n",
      "45571       49693      0.440\n",
      "45572       49694      0.333\n",
      "\n",
      "[45573 rows x 2 columns]\n"
     ]
    }
   ],
   "source": [
    "proportion_produdct_reorders = order_products_df.groupby('product_id')['reordered'].mean().round(3).reset_index() # Calculate proportions of reordered\n",
    "print(proportion_produdct_reorders)"
   ]
  },
  {
   "cell_type": "code",
   "execution_count": 52,
   "id": "103e7fe1",
   "metadata": {},
   "outputs": [
    {
     "name": "stdout",
     "output_type": "stream",
     "text": [
      "       product_id                                       product_name  \\\n",
      "0               1                         chocolate sandwich cookies   \n",
      "1               2                                   all-seasons salt   \n",
      "2               3               robust golden unsweetened oolong tea   \n",
      "3               4  smart ones classic favorites mini rigatoni wit...   \n",
      "4               5                          green chile anytime sauce   \n",
      "...           ...                                                ...   \n",
      "48328       49684          vodka- triple distilled- twist of vanilla   \n",
      "48329       49685                 en croute roast hazelnut cranberry   \n",
      "48330       49686                                   artisan baguette   \n",
      "48331       49687         smartblend healthy metabolism dry cat food   \n",
      "48332       49688                             fresh foaming cleanser   \n",
      "\n",
      "       reordered  \n",
      "0          0.564  \n",
      "1          0.000  \n",
      "2          0.738  \n",
      "3          0.510  \n",
      "4            NaN  \n",
      "...          ...  \n",
      "48328      0.000  \n",
      "48329      0.500  \n",
      "48330      0.625  \n",
      "48331      0.000  \n",
      "48332      0.111  \n",
      "\n",
      "[48333 rows x 3 columns]\n"
     ]
    }
   ],
   "source": [
    "merged_proportions_df = products_df.merge(proportion_produdct_reorders, on='product_id', how='left').drop(['aisle_id', 'department_id'], axis='columns') # Merge the two DFs\n",
    "print(merged_proportions_df)"
   ]
  },
  {
   "cell_type": "code",
   "execution_count": 53,
   "id": "social-individual",
   "metadata": {},
   "outputs": [
    {
     "data": {
      "text/html": [
       "<div>\n",
       "<style scoped>\n",
       "    .dataframe tbody tr th:only-of-type {\n",
       "        vertical-align: middle;\n",
       "    }\n",
       "\n",
       "    .dataframe tbody tr th {\n",
       "        vertical-align: top;\n",
       "    }\n",
       "\n",
       "    .dataframe thead th {\n",
       "        text-align: right;\n",
       "    }\n",
       "</style>\n",
       "<table border=\"1\" class=\"dataframe\">\n",
       "  <thead>\n",
       "    <tr style=\"text-align: right;\">\n",
       "      <th></th>\n",
       "      <th>product_id</th>\n",
       "      <th>product_name</th>\n",
       "      <th>reordered</th>\n",
       "    </tr>\n",
       "  </thead>\n",
       "  <tbody>\n",
       "    <tr>\n",
       "      <th>0</th>\n",
       "      <td>1</td>\n",
       "      <td>chocolate sandwich cookies</td>\n",
       "      <td>0.564</td>\n",
       "    </tr>\n",
       "    <tr>\n",
       "      <th>1</th>\n",
       "      <td>2</td>\n",
       "      <td>all-seasons salt</td>\n",
       "      <td>0.000</td>\n",
       "    </tr>\n",
       "    <tr>\n",
       "      <th>2</th>\n",
       "      <td>3</td>\n",
       "      <td>robust golden unsweetened oolong tea</td>\n",
       "      <td>0.738</td>\n",
       "    </tr>\n",
       "    <tr>\n",
       "      <th>3</th>\n",
       "      <td>4</td>\n",
       "      <td>smart ones classic favorites mini rigatoni wit...</td>\n",
       "      <td>0.510</td>\n",
       "    </tr>\n",
       "    <tr>\n",
       "      <th>4</th>\n",
       "      <td>5</td>\n",
       "      <td>green chile anytime sauce</td>\n",
       "      <td>0.000</td>\n",
       "    </tr>\n",
       "    <tr>\n",
       "      <th>...</th>\n",
       "      <td>...</td>\n",
       "      <td>...</td>\n",
       "      <td>...</td>\n",
       "    </tr>\n",
       "    <tr>\n",
       "      <th>48328</th>\n",
       "      <td>49684</td>\n",
       "      <td>vodka- triple distilled- twist of vanilla</td>\n",
       "      <td>0.000</td>\n",
       "    </tr>\n",
       "    <tr>\n",
       "      <th>48329</th>\n",
       "      <td>49685</td>\n",
       "      <td>en croute roast hazelnut cranberry</td>\n",
       "      <td>0.500</td>\n",
       "    </tr>\n",
       "    <tr>\n",
       "      <th>48330</th>\n",
       "      <td>49686</td>\n",
       "      <td>artisan baguette</td>\n",
       "      <td>0.625</td>\n",
       "    </tr>\n",
       "    <tr>\n",
       "      <th>48331</th>\n",
       "      <td>49687</td>\n",
       "      <td>smartblend healthy metabolism dry cat food</td>\n",
       "      <td>0.000</td>\n",
       "    </tr>\n",
       "    <tr>\n",
       "      <th>48332</th>\n",
       "      <td>49688</td>\n",
       "      <td>fresh foaming cleanser</td>\n",
       "      <td>0.111</td>\n",
       "    </tr>\n",
       "  </tbody>\n",
       "</table>\n",
       "<p>48333 rows × 3 columns</p>\n",
       "</div>"
      ],
      "text/plain": [
       "       product_id                                       product_name  \\\n",
       "0               1                         chocolate sandwich cookies   \n",
       "1               2                                   all-seasons salt   \n",
       "2               3               robust golden unsweetened oolong tea   \n",
       "3               4  smart ones classic favorites mini rigatoni wit...   \n",
       "4               5                          green chile anytime sauce   \n",
       "...           ...                                                ...   \n",
       "48328       49684          vodka- triple distilled- twist of vanilla   \n",
       "48329       49685                 en croute roast hazelnut cranberry   \n",
       "48330       49686                                   artisan baguette   \n",
       "48331       49687         smartblend healthy metabolism dry cat food   \n",
       "48332       49688                             fresh foaming cleanser   \n",
       "\n",
       "       reordered  \n",
       "0          0.564  \n",
       "1          0.000  \n",
       "2          0.738  \n",
       "3          0.510  \n",
       "4          0.000  \n",
       "...          ...  \n",
       "48328      0.000  \n",
       "48329      0.500  \n",
       "48330      0.625  \n",
       "48331      0.000  \n",
       "48332      0.111  \n",
       "\n",
       "[48333 rows x 3 columns]"
      ]
     },
     "execution_count": 53,
     "metadata": {},
     "output_type": "execute_result"
    }
   ],
   "source": [
    "merged_proportions_df.isna().sum() # Calculate number is missing values. If a proportion is missing, it means the product was not reordered.\n",
    "merged_proportions_df.fillna(0.000) # Fill missing values with 0 (same level of accuracy as existing values)"
   ]
  },
  {
   "cell_type": "markdown",
   "id": "subject-boxing",
   "metadata": {},
   "source": [
    "### 4.11. Finding the proportion of ordered products that are reorders?"
   ]
  },
  {
   "cell_type": "code",
   "execution_count": 54,
   "id": "medical-couple",
   "metadata": {
    "scrolled": true
   },
   "outputs": [
    {
     "name": "stdout",
     "output_type": "stream",
     "text": [
      "        order_id  reordered\n",
      "0              4      0.923\n",
      "1              9      0.667\n",
      "2             11      1.000\n",
      "3             19      1.000\n",
      "4             20      0.000\n",
      "...          ...        ...\n",
      "450041   3421034      1.000\n",
      "450042   3421053      1.000\n",
      "450043   3421071      0.200\n",
      "450044   3421077      0.000\n",
      "450045   3421079      0.000\n",
      "\n",
      "[450046 rows x 2 columns]\n"
     ]
    }
   ],
   "source": [
    "proportion_reorders = order_products_df.groupby('order_id')['reordered'].mean().round(3).reset_index() # Calculate proportions of reordered\n",
    "print(proportion_reorders)"
   ]
  },
  {
   "cell_type": "code",
   "execution_count": 55,
   "id": "8892e4b4",
   "metadata": {},
   "outputs": [
    {
     "name": "stdout",
     "output_type": "stream",
     "text": [
      "user_id\n",
      "2         0.038500\n",
      "4         0.000000\n",
      "5         0.667000\n",
      "6         0.000000\n",
      "7         0.944500\n",
      "            ...   \n",
      "206203    0.222000\n",
      "206206    0.690429\n",
      "206207    0.815000\n",
      "206208    0.731444\n",
      "206209    0.347000\n",
      "Name: reordered, Length: 157437, dtype: float64\n"
     ]
    }
   ],
   "source": [
    "orders_merged = orders_df.merge(proportion_reorders, on='order_id', how='left').drop(['order_dow', 'order_hour_of_day', 'days_since_prior_order'], axis='columns')\n",
    "proportion_of_reorders_by_user = orders_merged.groupby('user_id')['reordered'].mean()\n",
    "\n",
    "print(proportion_of_reorders_by_user)"
   ]
  },
  {
   "cell_type": "markdown",
   "id": "660b36b1",
   "metadata": {},
   "source": [
    "## 5. Conclusions"
   ]
  },
  {
   "cell_type": "code",
   "execution_count": 56,
   "id": "c7763818",
   "metadata": {},
   "outputs": [
    {
     "name": "stdout",
     "output_type": "stream",
     "text": [
      "157437\n"
     ]
    }
   ],
   "source": [
    "print(orders_df['user_id'].nunique())"
   ]
  },
  {
   "cell_type": "markdown",
   "id": "28ce9872",
   "metadata": {},
   "source": [
    "The data provides clear insights into the shopping behaviors of 157,437 unique individuals. It reveals that people tend to shop between approximately 7:00 AM and 9:00 PM, which aligns with the times when a large majority of shoppers and drivers are likely available. Additionally, Mondays and Tuesdays show higher order numbers compared to the rest of the week. However, order frequencies from Wednesday to Sunday are quite similar, with minimal deviation. On average, shoppers purchase 8-10 items per order, suggesting that customers typically use the application for smaller quantities of items they need, rather than for their entire grocery shopping needs."
   ]
  }
 ],
 "metadata": {
  "kernelspec": {
   "display_name": "Python 3 (ipykernel)",
   "language": "python",
   "name": "python3"
  },
  "language_info": {
   "codemirror_mode": {
    "name": "ipython",
    "version": 3
   },
   "file_extension": ".py",
   "mimetype": "text/x-python",
   "name": "python",
   "nbconvert_exporter": "python",
   "pygments_lexer": "ipython3",
   "version": "3.11.7"
  },
  "toc": {
   "base_numbering": 1,
   "nav_menu": {},
   "number_sections": true,
   "sideBar": true,
   "skip_h1_title": true,
   "title_cell": "Table of Contents",
   "title_sidebar": "Contents",
   "toc_cell": false,
   "toc_position": {},
   "toc_section_display": true,
   "toc_window_display": false
  },
  "vscode": {
   "interpreter": {
    "hash": "01a7be9ec63e704a62cefc5fe7a4756944464ee731be31632bdf42a4cb4688cf"
   }
  }
 },
 "nbformat": 4,
 "nbformat_minor": 5
}
